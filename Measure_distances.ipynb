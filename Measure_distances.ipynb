{
 "cells": [
  {
   "cell_type": "raw",
   "id": "932ab9f8-a617-4874-8047-708ad0e2b731",
   "metadata": {},
   "source": [
    "#select the backbone of a single DNA strand\n",
    "select backbone_, (resn DA+DT+DC+DG) and (name P+C1'+C4' or name OP1+OP2+O5' or name C3'+O3') and chain Target and not chain Non_Target"
   ]
  },
  {
   "cell_type": "code",
   "execution_count": 1,
   "id": "3b974c80-f5f4-4639-b784-faf6fc3e3928",
   "metadata": {},
   "outputs": [
    {
     "ename": "NameError",
     "evalue": "name 'cmd' is not defined",
     "output_type": "error",
     "traceback": [
      "\u001b[1;31m---------------------------------------------------------------------------\u001b[0m",
      "\u001b[1;31mNameError\u001b[0m                                 Traceback (most recent call last)",
      "Input \u001b[1;32mIn [1]\u001b[0m, in \u001b[0;36m<cell line: 11>\u001b[1;34m()\u001b[0m\n\u001b[0;32m      9\u001b[0m \u001b[38;5;66;03m# Get the coordinates of the selected 3' carbon atoms in the DNA backbone\u001b[39;00m\n\u001b[0;32m     10\u001b[0m coords_dna_3prime \u001b[38;5;241m=\u001b[39m []\n\u001b[1;32m---> 11\u001b[0m \u001b[43mcmd\u001b[49m\u001b[38;5;241m.\u001b[39miterate_state(\u001b[38;5;241m1\u001b[39m, \u001b[38;5;124m'\u001b[39m\u001b[38;5;124m(chain Target) and (resn DA+DT+DC+DG) and (name C3\u001b[39m\u001b[38;5;130;01m\\'\u001b[39;00m\u001b[38;5;124m)\u001b[39m\u001b[38;5;124m'\u001b[39m, \u001b[38;5;124m'\u001b[39m\u001b[38;5;124mcoords_dna_3prime.append([x, y, z])\u001b[39m\u001b[38;5;124m'\u001b[39m)\n\u001b[0;32m     13\u001b[0m \u001b[38;5;66;03m# Get the coordinates of the atoms in chain Cas12a (protein)\u001b[39;00m\n\u001b[0;32m     14\u001b[0m coords_protein \u001b[38;5;241m=\u001b[39m []\n",
      "\u001b[1;31mNameError\u001b[0m: name 'cmd' is not defined"
     ]
    }
   ],
   "source": [
    "#####     WILL get distances between selected DNA atoms and Protein \n",
    "\n",
    "# Assuming you have already loaded the structures and selected the atoms\n",
    "# You can execute the following Python script within PyMOL:\n",
    "\n",
    "import csv\n",
    "import numpy as np\n",
    "\n",
    "# Get the coordinates of the selected 3' carbon atoms in the DNA backbone\n",
    "coords_dna_3prime = []\n",
    "cmd.iterate_state(1, '(chain Target) and (resn DA+DT+DC+DG) and (name C3\\')', 'coords_dna_3prime.append([x, y, z])')\n",
    "\n",
    "# Get the coordinates of the atoms in chain Cas12a (protein)\n",
    "coords_protein = []\n",
    "cmd.iterate_state(1, 'chain Cas12a', 'coords_protein.append([x, y, z])')\n",
    "\n",
    "# Calculate distances between each DNA 3' carbon atom and the closest protein atom\n",
    "distances = np.zeros(len(coords_dna_3prime))\n",
    "for i, coord_dna_3prime in enumerate(coords_dna_3prime):\n",
    "    closest_distance = float('inf')  # Initialize with a large value\n",
    "    for coord_protein in coords_protein:\n",
    "        distance = np.linalg.norm(np.array(coord_dna_3prime) - np.array(coord_protein))\n",
    "        closest_distance = min(closest_distance, distance)\n",
    "    distances[i] = closest_distance\n",
    "\n",
    "# Save the distances to a .csv file\n",
    "output_file = 'distances.csv'\n",
    "with open(output_file, 'w', newline='') as f:\n",
    "    csv_writer = csv.writer(f)\n",
    "    \n",
    "    # Write header row\n",
    "    header = ['DNA 3\\' Carbon Atom', 'Closest Protein Atom']\n",
    "    csv_writer.writerow(header)\n",
    "\n",
    "    # Write data rows\n",
    "    for i, distance in enumerate(distances):\n",
    "        csv_writer.writerow([f'DNA Atom {i+1}', f'{distance:.2f}'])"
   ]
  },
  {
   "cell_type": "code",
   "execution_count": 2,
   "id": "0a065849-029e-40de-b700-32af2ac76582",
   "metadata": {},
   "outputs": [
    {
     "ename": "NameError",
     "evalue": "name 'cmd' is not defined",
     "output_type": "error",
     "traceback": [
      "\u001b[1;31m---------------------------------------------------------------------------\u001b[0m",
      "\u001b[1;31mNameError\u001b[0m                                 Traceback (most recent call last)",
      "Input \u001b[1;32mIn [2]\u001b[0m, in \u001b[0;36m<cell line: 8>\u001b[1;34m()\u001b[0m\n\u001b[0;32m      6\u001b[0m \u001b[38;5;66;03m# Get the coordinates of the selected 3' carbon atoms in the DNA backbone\u001b[39;00m\n\u001b[0;32m      7\u001b[0m coords_dna_3prime \u001b[38;5;241m=\u001b[39m []\n\u001b[1;32m----> 8\u001b[0m \u001b[43mcmd\u001b[49m\u001b[38;5;241m.\u001b[39miterate_state(\u001b[38;5;241m1\u001b[39m, \u001b[38;5;124m'\u001b[39m\u001b[38;5;124m(chain Target) and (resn DA+DT+DC+DG) and (name C3\u001b[39m\u001b[38;5;130;01m\\'\u001b[39;00m\u001b[38;5;124m)\u001b[39m\u001b[38;5;124m'\u001b[39m, \u001b[38;5;124m'\u001b[39m\u001b[38;5;124mcoords_dna_3prime.append([x, y, z])\u001b[39m\u001b[38;5;124m'\u001b[39m)\n\u001b[0;32m     10\u001b[0m \u001b[38;5;66;03m# Get the coordinates of the atoms in chain Cas12a (protein)\u001b[39;00m\n\u001b[0;32m     11\u001b[0m coords_protein \u001b[38;5;241m=\u001b[39m []\n",
      "\u001b[1;31mNameError\u001b[0m: name 'cmd' is not defined"
     ]
    }
   ],
   "source": [
    "#####     WILL get distances between selected RNA atoms and protein\n",
    "\n",
    "import csv\n",
    "import numpy as np\n",
    "\n",
    "# Get the coordinates of the selected 3' carbon atoms in the DNA backbone\n",
    "coords_dna_3prime = []\n",
    "cmd.iterate_state(1, '(chain Target) and (resn DA+DT+DC+DG) and (name C3\\')', 'coords_dna_3prime.append([x, y, z])')\n",
    "\n",
    "# Get the coordinates of the atoms in chain Cas12a (protein)\n",
    "coords_protein = []\n",
    "cmd.iterate_state(1, 'chain Cas12a', 'coords_protein.append([x, y, z])')\n",
    "\n",
    "# Calculate distances between each DNA 3' carbon atom and the closest protein atom\n",
    "distances = []\n",
    "for i, coord_dna_3prime in enumerate(coords_dna_3prime):\n",
    "    closest_distance = float('inf')  # Initialize with a large value\n",
    "    for coord_protein in coords_protein:\n",
    "        distance = np.linalg.norm(np.array(coord_dna_3prime) - np.array(coord_protein))\n",
    "        closest_distance = min(closest_distance, distance)\n",
    "    distances.append(closest_distance)\n",
    "\n",
    "# Save the distances to a .csv file\n",
    "output_file = 'distances.csv'\n",
    "with open(output_file, 'w', newline='') as f:\n",
    "    csv_writer = csv.writer(f)\n",
    "    \n",
    "    # Write header row\n",
    "    csv_writer.writerow(['DNA Atom Number', 'Distance to Closest Protein Atom'])\n",
    "\n",
    "    # Write data rows\n",
    "    for i, distance in enumerate(distances):\n",
    "        csv_writer.writerow([f'3\\' Carbon Atom {i+1}', f'{distance:.2f}'])"
   ]
  },
  {
   "cell_type": "code",
   "execution_count": 1,
   "id": "cb934287-1dae-460c-8dcf-c5ded98b78bb",
   "metadata": {},
   "outputs": [
    {
     "ename": "NameError",
     "evalue": "name 'cmd' is not defined",
     "output_type": "error",
     "traceback": [
      "\u001b[1;31m---------------------------------------------------------------------------\u001b[0m",
      "\u001b[1;31mNameError\u001b[0m                                 Traceback (most recent call last)",
      "Input \u001b[1;32mIn [1]\u001b[0m, in \u001b[0;36m<cell line: 8>\u001b[1;34m()\u001b[0m\n\u001b[0;32m      5\u001b[0m \u001b[38;5;28;01mimport\u001b[39;00m \u001b[38;5;21;01mnumpy\u001b[39;00m \u001b[38;5;28;01mas\u001b[39;00m \u001b[38;5;21;01mnp\u001b[39;00m\n\u001b[0;32m      7\u001b[0m \u001b[38;5;66;03m# Clear existing selections\u001b[39;00m\n\u001b[1;32m----> 8\u001b[0m \u001b[43mcmd\u001b[49m\u001b[38;5;241m.\u001b[39mselect(\u001b[38;5;124m\"\u001b[39m\u001b[38;5;124mnone\u001b[39m\u001b[38;5;124m\"\u001b[39m)\n\u001b[0;32m     10\u001b[0m \u001b[38;5;66;03m# Select the 3' carbon atoms of interest\u001b[39;00m\n\u001b[0;32m     11\u001b[0m cmd\u001b[38;5;241m.\u001b[39mselect(\u001b[38;5;124m\"\u001b[39m\u001b[38;5;124mdna_3prime\u001b[39m\u001b[38;5;124m\"\u001b[39m, \u001b[38;5;124m'\u001b[39m\u001b[38;5;124m(chain Target) and (resn DA+DT+DC+DG) and (name C3\u001b[39m\u001b[38;5;130;01m\\'\u001b[39;00m\u001b[38;5;124m)\u001b[39m\u001b[38;5;124m'\u001b[39m)\n",
      "\u001b[1;31mNameError\u001b[0m: name 'cmd' is not defined"
     ]
    }
   ],
   "source": [
    "#####   WILL SHOW THE SELECTED ATOMS\n",
    "# Load your molecular structures (DNA and protein) into PyMOL\n",
    "\n",
    "import csv\n",
    "import numpy as np\n",
    "\n",
    "# Clear existing selections\n",
    "cmd.select(\"none\")\n",
    "\n",
    "# Select the 3' carbon atoms of interest\n",
    "cmd.select(\"dna_3prime\", '(chain Target) and (resn DA+DT+DC+DG) and (name C3\\')')\n",
    "\n",
    "# Color the selected atoms to stand out\n",
    "cmd.color(\"red\", \"dna_3prime\")\n",
    "\n",
    "# Show the selected atoms as spheres\n",
    "cmd.show(\"spheres\", \"dna_3prime\")\n",
    "\n",
    "# Zoom to the selected atoms\n",
    "cmd.zoom(\"dna_3prime\")\n",
    "\n",
    "# Center the view on the selected atoms\n",
    "cmd.center(\"dna_3prime\")\n",
    "\n",
    "# Get the coordinates of the selected 3' carbon atoms in the DNA backbone\n",
    "coords_dna_3prime = []\n",
    "cmd.iterate_state(1, '(chain Target) and (resn DA+DT+DC+DG) and (name C3\\')', 'coords_dna_3prime.append([x, y, z])')\n",
    "\n",
    "# Print the coordinates\n",
    "for coord in coords_dna_3prime:\n",
    "    print(coord)"
   ]
  },
  {
   "cell_type": "code",
   "execution_count": null,
   "id": "c84ef534-6e1c-4f50-ae54-9469aa8070da",
   "metadata": {},
   "outputs": [],
   "source": [
    "# Load your molecular structures (DNA, gRNA, and protein) into PyMOL\n",
    "\n",
    "# Clear existing selections\n",
    "cmd.select(\"none\")\n",
    "\n",
    "# Select the 3' carbon atoms of interest in DNA\n",
    "cmd.select(\"dna_3prime\", '(chain Target) and (resn DA+DT+DC+DG) and (name C3\\')')\n",
    "\n",
    "# Color the selected DNA atoms to stand out\n",
    "cmd.color(\"red\", \"dna_3prime\")\n",
    "\n",
    "# Show the selected DNA atoms as spheres\n",
    "cmd.show(\"spheres\", \"dna_3prime\")\n",
    "\n",
    "# Select the 3' carbon atoms of interest in gRNA\n",
    "cmd.select(\"grna_3prime\", '(chain gRNA) and (resn G+A+C+U) and (name C3\\')')\n",
    "\n",
    "# Color the selected gRNA atoms to stand out\n",
    "cmd.color(\"blue\", \"grna_3prime\")\n",
    "\n",
    "# Show the selected gRNA atoms as spheres\n",
    "cmd.show(\"spheres\", \"grna_3prime\")\n",
    "\n",
    "# Combine the selections for zooming and centering\n",
    "cmd.select(\"selected_atoms\", \"dna_3prime or grna_3prime\")\n",
    "\n",
    "# Zoom to the selected atoms\n",
    "cmd.zoom(\"selected_atoms\")\n",
    "\n",
    "# Center the view on the selected atoms\n",
    "cmd.center(\"selected_atoms\")\n",
    "\n",
    "# Get the coordinates of the selected 3' carbon atoms in the DNA backbone\n",
    "coords_dna_3prime = []\n",
    "cmd.iterate_state(1, '(chain Target) and (resn DA+DT+DC+DG) and (name C3\\')', 'coords_dna_3prime.append([x, y, z])')\n",
    "\n",
    "# Get the coordinates of the selected 3' carbon atoms in the gRNA backbone\n",
    "coords_grna_3prime = []\n",
    "cmd.iterate_state(1, '(chain gRNA) and (resn G+A+C+U) and (name C3\\')', 'coords_grna_3prime.append([x, y, z])')\n",
    "\n",
    "# Print the coordinates for DNA\n",
    "for coord in coords_dna_3prime:\n",
    "    print(\"DNA:\", coord)\n",
    "\n",
    "# Print the coordinates for gRNA\n",
    "for coord in coords_grna_3prime:\n",
    "    print(\"gRNA:\", coord)"
   ]
  }
 ],
 "metadata": {
  "kernelspec": {
   "display_name": "Python 3 (ipykernel)",
   "language": "python",
   "name": "python3"
  },
  "language_info": {
   "codemirror_mode": {
    "name": "ipython",
    "version": 3
   },
   "file_extension": ".py",
   "mimetype": "text/x-python",
   "name": "python",
   "nbconvert_exporter": "python",
   "pygments_lexer": "ipython3",
   "version": "3.9.12"
  }
 },
 "nbformat": 4,
 "nbformat_minor": 5
}
