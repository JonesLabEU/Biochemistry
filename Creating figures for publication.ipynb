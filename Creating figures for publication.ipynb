{
 "cells": [
  {
   "cell_type": "markdown",
   "id": "27425c38",
   "metadata": {},
   "source": [
    "# Nature recommendations\n",
    "- Images:\n",
    "\t- Size:\n",
    "\t\t- Full column: 183 mm (7.2 in)\n",
    "\t\t- Half column: 89 mm (3.5 in)\n",
    "\t\t- 1.5 column: 120 mm (4.72 in) or 136 mm (5.35 in)\n",
    "\t\t- Maximal height: 247 mm (9.72 in)\n",
    "\t- Resolution: At least 300 dpi, but 450 recommended (>450 dpi will be downsampled to 450 dpi)\n",
    "\t- Color space: RGB\n",
    "- Text:\n",
    "\t- Regular text: Sans-serif (Arial, Helvetica)\n",
    "\t- Amino-acid sequences: Monospace (Courier New), 50 or 100 characters per line\n",
    "\t- Glyphs and greek characters: Symbol font\n",
    "\t- Size: 5-7 pt for regular text, 8 pt bold for panel labels (a, b, c, ...)\n",
    "\t- Axes labelled with text and units, tick marks added\n",
    "\t- Avoid colored text, preferring colored boxes in the legend\n",
    "- Colors:\n",
    "\t- Use contrasting colors to aid color blind individuals\n",
    "\t- Use solid colors\n",
    "- Saving:\n",
    "\t- .pdf or .eps\n",
    "\t- Do not convert text to raster or outlines\n",
    "\t- Embed fonts (TrueType 2 or 42)\n",
    "\t- Export at the maximal possible resolution (depending on your images), but no more than 450 dpi\n",
    "\n",
    "# Example code"
   ]
  },
  {
   "cell_type": "code",
   "execution_count": 3,
   "id": "d018d7a7",
   "metadata": {
    "jupyter": {
     "is_executing": false
    }
   },
   "outputs": [
    {
     "data": {
      "image/png": "[encoded data removed]",
      "text/plain": [
       "<Figure size 700x466 with 1 Axes>"
      ]
     },
     "metadata": {},
     "output_type": "display_data"
    }
   ],
   "source": [
    "import io, re\n",
    "import matplotlib.pyplot as plt\n",
    "import pyperclip\n",
    "\n",
    "\n",
    "plt.rcParams['font.family'] = 'sans-serif'\n",
    "plt.rcParams['font.sans-serif'] = ['Arial']\n",
    "plt.rcParams['pdf.fonttype'] = 42\n",
    "plt.rcParams['svg.fonttype'] = 'none'\n",
    "plt.rcParams['font.size'] = 6\n",
    "plt.rcParams['axes.titlesize'] = 7\n",
    "plt.rcParams['figure.titlesize'] = 7\n",
    "\n",
    "\n",
    "def copy_and_show_fig(fig, dpi=450):\n",
    "    \"\"\"Copies SVG to clipboard and displays figure\n",
    "    \"\"\"\n",
    "    buf = io.StringIO()\n",
    "    fig.patch.set_visible(False)   # remove the global background patch\n",
    "    for ax in fig.axes:\n",
    "        ax.patch.set_visible(False)  # remove each Axes background patch\n",
    "    fig.savefig(buf, format='svg', transparent=True, bbox_inches='tight', pad_inches=0)\n",
    "    svg_data = buf.getvalue()\n",
    "\n",
    "    # patch width/height from pt to px\n",
    "    m = re.search(r'viewBox=\"\\s*([-\\d.]+)\\s+([-\\d.]+)\\s+([-\\d.]+)\\s+([-\\d.]+)\"', svg_data)\n",
    "    w_pt, h_pt = float(m.group(3)), float(m.group(4))\n",
    "    w_px = int(round(w_pt * dpi / 72))\n",
    "    h_px = int(round(h_pt * dpi / 72))\n",
    "\n",
    "    svg_data = re.sub(r'(<svg[^>]*?)width=\"[^\"]+\"', rf'\\1width=\"{w_px}px\"', svg_data, count=1)\n",
    "    svg_data = re.sub(r'(<svg[^>]*?)height=\"[^\"]+\"', rf'\\1height=\"{h_px}px\"', svg_data, count=1)\n",
    "    pyperclip.copy(svg_data)\n",
    "\n",
    "    fig.set_dpi(200)\n",
    "    fig.patch.set_visible(True)\n",
    "\n",
    "\n",
    "fig, ax = plt.subplots(figsize=(3.5, 2.33))  # Corresponds to 183 mm width\n",
    "\n",
    "# This is a simple example\n",
    "y = range(1, 10)\n",
    "x = range(len(y))\n",
    "ax.bar(x, y, color='tomato')\n",
    "ax.set_title('A simple bar plot')\n",
    "ax.set_xlabel('Item ID')\n",
    "ax.set_ylabel('Number of items')\n",
    "ax.spines['right'].set_visible(False)\n",
    "ax.spines['top'].set_visible(False)\n",
    "\n",
    "# Draw your figure and copy SVG to clipboard\n",
    "copy_and_show_fig(fig)"
   ]
  }
 ],
 "metadata": {
  "jupytext": {
   "cell_metadata_filter": "-all",
   "formats": "ipynb,md"
  },
  "kernelspec": {
   "display_name": "Python 3",
   "language": "python",
   "name": "python3"
  },
  "language_info": {
   "codemirror_mode": {
    "name": "ipython",
    "version": 3
   },
   "file_extension": ".py",
   "mimetype": "text/x-python",
   "name": "python",
   "nbconvert_exporter": "python",
   "pygments_lexer": "ipython3",
   "version": "3.11.4"
  }
 },
 "nbformat": 4,
 "nbformat_minor": 5
}
